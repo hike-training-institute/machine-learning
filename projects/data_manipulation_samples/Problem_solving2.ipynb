{
 "cells": [
  {
   "cell_type": "code",
   "execution_count": 1,
   "metadata": {},
   "outputs": [],
   "source": [
    "import pandas as pd"
   ]
  },
  {
   "cell_type": "code",
   "execution_count": 2,
   "metadata": {},
   "outputs": [],
   "source": [
    "df1 = pd.read_csv('df_n1.csv')\n",
    "df2 = pd.read_csv('df_n2.csv')"
   ]
  },
  {
   "cell_type": "code",
   "execution_count": 3,
   "metadata": {},
   "outputs": [
    {
     "data": {
      "text/html": [
       "<div>\n",
       "<style scoped>\n",
       "    .dataframe tbody tr th:only-of-type {\n",
       "        vertical-align: middle;\n",
       "    }\n",
       "\n",
       "    .dataframe tbody tr th {\n",
       "        vertical-align: top;\n",
       "    }\n",
       "\n",
       "    .dataframe thead th {\n",
       "        text-align: right;\n",
       "    }\n",
       "</style>\n",
       "<table border=\"1\" class=\"dataframe\">\n",
       "  <thead>\n",
       "    <tr style=\"text-align: right;\">\n",
       "      <th></th>\n",
       "      <th>ID</th>\n",
       "      <th>Name</th>\n",
       "      <th>Date</th>\n",
       "      <th>Amount</th>\n",
       "    </tr>\n",
       "  </thead>\n",
       "  <tbody>\n",
       "    <tr>\n",
       "      <th>0</th>\n",
       "      <td>A001</td>\n",
       "      <td>Sunil</td>\n",
       "      <td>01-01-2016</td>\n",
       "      <td>100</td>\n",
       "    </tr>\n",
       "    <tr>\n",
       "      <th>1</th>\n",
       "      <td>A003</td>\n",
       "      <td>Mani</td>\n",
       "      <td>01-05-2015</td>\n",
       "      <td>476</td>\n",
       "    </tr>\n",
       "    <tr>\n",
       "      <th>2</th>\n",
       "      <td>A006</td>\n",
       "      <td>Karthik</td>\n",
       "      <td>03-05-2015</td>\n",
       "      <td>454</td>\n",
       "    </tr>\n",
       "    <tr>\n",
       "      <th>3</th>\n",
       "      <td>A007</td>\n",
       "      <td>Muthu</td>\n",
       "      <td>13-08-2017</td>\n",
       "      <td>333</td>\n",
       "    </tr>\n",
       "    <tr>\n",
       "      <th>4</th>\n",
       "      <td>A008</td>\n",
       "      <td>Loga</td>\n",
       "      <td>22-09-2017</td>\n",
       "      <td>456</td>\n",
       "    </tr>\n",
       "    <tr>\n",
       "      <th>5</th>\n",
       "      <td>A009</td>\n",
       "      <td>Guna</td>\n",
       "      <td>15-11-2019</td>\n",
       "      <td>234</td>\n",
       "    </tr>\n",
       "    <tr>\n",
       "      <th>6</th>\n",
       "      <td>A010</td>\n",
       "      <td>Rajiv</td>\n",
       "      <td>23-10-2018</td>\n",
       "      <td>456</td>\n",
       "    </tr>\n",
       "    <tr>\n",
       "      <th>7</th>\n",
       "      <td>A014</td>\n",
       "      <td>Prasath</td>\n",
       "      <td>10-08-2017</td>\n",
       "      <td>567</td>\n",
       "    </tr>\n",
       "    <tr>\n",
       "      <th>8</th>\n",
       "      <td>A020</td>\n",
       "      <td>Udhaya</td>\n",
       "      <td>12-04-2018</td>\n",
       "      <td>678</td>\n",
       "    </tr>\n",
       "    <tr>\n",
       "      <th>9</th>\n",
       "      <td>A022</td>\n",
       "      <td>Velu</td>\n",
       "      <td>24-05-2019</td>\n",
       "      <td>789</td>\n",
       "    </tr>\n",
       "  </tbody>\n",
       "</table>\n",
       "</div>"
      ],
      "text/plain": [
       "     ID     Name        Date  Amount\n",
       "0  A001    Sunil  01-01-2016     100\n",
       "1  A003     Mani  01-05-2015     476\n",
       "2  A006  Karthik  03-05-2015     454\n",
       "3  A007    Muthu  13-08-2017     333\n",
       "4  A008     Loga  22-09-2017     456\n",
       "5  A009     Guna  15-11-2019     234\n",
       "6  A010    Rajiv  23-10-2018     456\n",
       "7  A014  Prasath  10-08-2017     567\n",
       "8  A020   Udhaya  12-04-2018     678\n",
       "9  A022     Velu  24-05-2019     789"
      ]
     },
     "execution_count": 3,
     "metadata": {},
     "output_type": "execute_result"
    }
   ],
   "source": [
    "df1"
   ]
  },
  {
   "cell_type": "code",
   "execution_count": 4,
   "metadata": {},
   "outputs": [
    {
     "data": {
      "text/html": [
       "<div>\n",
       "<style scoped>\n",
       "    .dataframe tbody tr th:only-of-type {\n",
       "        vertical-align: middle;\n",
       "    }\n",
       "\n",
       "    .dataframe tbody tr th {\n",
       "        vertical-align: top;\n",
       "    }\n",
       "\n",
       "    .dataframe thead th {\n",
       "        text-align: right;\n",
       "    }\n",
       "</style>\n",
       "<table border=\"1\" class=\"dataframe\">\n",
       "  <thead>\n",
       "    <tr style=\"text-align: right;\">\n",
       "      <th></th>\n",
       "      <th>ID</th>\n",
       "      <th>Name</th>\n",
       "      <th>Date</th>\n",
       "      <th>Amount</th>\n",
       "    </tr>\n",
       "  </thead>\n",
       "  <tbody>\n",
       "    <tr>\n",
       "      <th>0</th>\n",
       "      <td>A006</td>\n",
       "      <td>Vino</td>\n",
       "      <td>03-05-2015</td>\n",
       "      <td>1000</td>\n",
       "    </tr>\n",
       "    <tr>\n",
       "      <th>1</th>\n",
       "      <td>A008</td>\n",
       "      <td>Ragu</td>\n",
       "      <td>22-09-2017</td>\n",
       "      <td>20000</td>\n",
       "    </tr>\n",
       "    <tr>\n",
       "      <th>2</th>\n",
       "      <td>A010</td>\n",
       "      <td>Barath</td>\n",
       "      <td>23-10-2018</td>\n",
       "      <td>100000</td>\n",
       "    </tr>\n",
       "    <tr>\n",
       "      <th>3</th>\n",
       "      <td>A003</td>\n",
       "      <td>Mani</td>\n",
       "      <td>01-05-2015</td>\n",
       "      <td>1000000</td>\n",
       "    </tr>\n",
       "    <tr>\n",
       "      <th>4</th>\n",
       "      <td>A020</td>\n",
       "      <td>Kumar</td>\n",
       "      <td>12-04-2018</td>\n",
       "      <td>40000</td>\n",
       "    </tr>\n",
       "  </tbody>\n",
       "</table>\n",
       "</div>"
      ],
      "text/plain": [
       "     ID    Name        Date   Amount\n",
       "0  A006    Vino  03-05-2015     1000\n",
       "1  A008    Ragu  22-09-2017    20000\n",
       "2  A010  Barath  23-10-2018   100000\n",
       "3  A003    Mani  01-05-2015  1000000\n",
       "4  A020   Kumar  12-04-2018    40000"
      ]
     },
     "execution_count": 4,
     "metadata": {},
     "output_type": "execute_result"
    }
   ],
   "source": [
    "df2"
   ]
  },
  {
   "cell_type": "raw",
   "metadata": {},
   "source": [
    "sort based on Date < or >  or = \n",
    "\n",
    "Match ID and Date from Df2 and df1 \n",
    "update name and amount\n",
    "\n",
    "change amount value from df2 to df1 \n",
    "or \n",
    "delete or insert scenario"
   ]
  },
  {
   "cell_type": "code",
   "execution_count": 10,
   "metadata": {},
   "outputs": [
    {
     "name": "stdout",
     "output_type": "stream",
     "text": [
      "     ID  Name        Date   Amount\n",
      "3  A003  Mani  01-05-2015  1000000\n",
      "     ID  Name        Date  Amount\n",
      "1  A003  Mani  01-05-2015     476\n"
     ]
    }
   ],
   "source": [
    "for id1, name1 in df1[['ID', 'Name']].values:\n",
    "    for id2, name2 in df2[['ID', 'Name']].values:\n",
    "        if id1 == id2:\n",
    "            if name1 == name2 :\n",
    "                print(df2[df2['Name'] == name2])\n",
    "                print(df1[df1['Name'] == name1])\n",
    "                \n",
    "                "
   ]
  },
  {
   "cell_type": "code",
   "execution_count": 15,
   "metadata": {},
   "outputs": [
    {
     "name": "stdout",
     "output_type": "stream",
     "text": [
      "<class 'pandas.core.frame.DataFrame'>\n",
      "RangeIndex: 10 entries, 0 to 9\n",
      "Data columns (total 4 columns):\n",
      "ID        10 non-null object\n",
      "Name      10 non-null object\n",
      "Date      10 non-null datetime64[ns]\n",
      "Amount    10 non-null int64\n",
      "dtypes: datetime64[ns](1), int64(1), object(2)\n",
      "memory usage: 400.0+ bytes\n"
     ]
    }
   ],
   "source": [
    "df1['Date'] = pd.to_datetime(df1['Date'])\n",
    "\n",
    "df1.info()"
   ]
  },
  {
   "cell_type": "code",
   "execution_count": 24,
   "metadata": {},
   "outputs": [],
   "source": [
    "tmp_df = df1.set_index('Date')"
   ]
  },
  {
   "cell_type": "code",
   "execution_count": 26,
   "metadata": {},
   "outputs": [],
   "source": [
    "from datetime import datetime as dt"
   ]
  },
  {
   "cell_type": "code",
   "execution_count": 27,
   "metadata": {},
   "outputs": [
    {
     "data": {
      "text/plain": [
       "datetime.datetime(2020, 2, 23, 20, 17, 24, 702609)"
      ]
     },
     "execution_count": 27,
     "metadata": {},
     "output_type": "execute_result"
    }
   ],
   "source": [
    "dt.now()"
   ]
  },
  {
   "cell_type": "code",
   "execution_count": 32,
   "metadata": {},
   "outputs": [
    {
     "name": "stdout",
     "output_type": "stream",
     "text": [
      "<class 'pandas.core.frame.DataFrame'>\n",
      "RangeIndex: 10 entries, 0 to 9\n",
      "Data columns (total 4 columns):\n",
      "ID        10 non-null object\n",
      "Name      10 non-null object\n",
      "Date      10 non-null datetime64[ns]\n",
      "Amount    10 non-null int64\n",
      "dtypes: datetime64[ns](1), int64(1), object(2)\n",
      "memory usage: 400.0+ bytes\n"
     ]
    }
   ],
   "source": [
    "df1.info()"
   ]
  },
  {
   "cell_type": "code",
   "execution_count": 42,
   "metadata": {},
   "outputs": [],
   "source": [
    "D = [2017, 2018, 2016]\n",
    "\n",
    "\n",
    "for i in D:\n",
    "    df1[df1['Date'] < str(i)]"
   ]
  },
  {
   "cell_type": "code",
   "execution_count": null,
   "metadata": {},
   "outputs": [],
   "source": []
  }
 ],
 "metadata": {
  "kernelspec": {
   "display_name": "Python 3",
   "language": "python",
   "name": "python3"
  },
  "language_info": {
   "codemirror_mode": {
    "name": "ipython",
    "version": 3
   },
   "file_extension": ".py",
   "mimetype": "text/x-python",
   "name": "python",
   "nbconvert_exporter": "python",
   "pygments_lexer": "ipython3",
   "version": "3.6.8"
  }
 },
 "nbformat": 4,
 "nbformat_minor": 2
}
