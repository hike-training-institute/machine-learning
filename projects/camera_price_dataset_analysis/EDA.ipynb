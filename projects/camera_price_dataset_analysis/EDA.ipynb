{
 "cells": [
  {
   "cell_type": "code",
   "execution_count": 1,
   "metadata": {},
   "outputs": [],
   "source": [
    "import pandas as pd\n",
    "import numpy as np \n",
    "from matplotlib import pyplot as plt"
   ]
  },
  {
   "cell_type": "markdown",
   "metadata": {},
   "source": [
    "# Reading Data"
   ]
  },
  {
   "cell_type": "code",
   "execution_count": 2,
   "metadata": {},
   "outputs": [],
   "source": [
    "df = pd.read_csv(filepath_or_buffer='camera_dataset.csv')"
   ]
  },
  {
   "cell_type": "markdown",
   "metadata": {},
   "source": [
    "# First Look"
   ]
  },
  {
   "cell_type": "code",
   "execution_count": 3,
   "metadata": {},
   "outputs": [
    {
     "data": {
      "text/html": [
       "<div>\n",
       "<style scoped>\n",
       "    .dataframe tbody tr th:only-of-type {\n",
       "        vertical-align: middle;\n",
       "    }\n",
       "\n",
       "    .dataframe tbody tr th {\n",
       "        vertical-align: top;\n",
       "    }\n",
       "\n",
       "    .dataframe thead th {\n",
       "        text-align: right;\n",
       "    }\n",
       "</style>\n",
       "<table border=\"1\" class=\"dataframe\">\n",
       "  <thead>\n",
       "    <tr style=\"text-align: right;\">\n",
       "      <th></th>\n",
       "      <th>Model</th>\n",
       "      <th>Release date</th>\n",
       "      <th>Max resolution</th>\n",
       "      <th>Low resolution</th>\n",
       "      <th>Effective pixels</th>\n",
       "      <th>Zoom wide (W)</th>\n",
       "      <th>Zoom tele (T)</th>\n",
       "      <th>Normal focus range</th>\n",
       "      <th>Macro focus range</th>\n",
       "      <th>Storage included</th>\n",
       "      <th>Weight (inc. batteries)</th>\n",
       "      <th>Dimensions</th>\n",
       "      <th>Price</th>\n",
       "    </tr>\n",
       "  </thead>\n",
       "  <tbody>\n",
       "    <tr>\n",
       "      <th>0</th>\n",
       "      <td>Agfa ePhoto 1280</td>\n",
       "      <td>1997</td>\n",
       "      <td>1024.0</td>\n",
       "      <td>640.0</td>\n",
       "      <td>0.0</td>\n",
       "      <td>38.0</td>\n",
       "      <td>114.0</td>\n",
       "      <td>70.0</td>\n",
       "      <td>40.0</td>\n",
       "      <td>4.0</td>\n",
       "      <td>420.0</td>\n",
       "      <td>95.0</td>\n",
       "      <td>179.0</td>\n",
       "    </tr>\n",
       "    <tr>\n",
       "      <th>1</th>\n",
       "      <td>Agfa ePhoto 1680</td>\n",
       "      <td>1998</td>\n",
       "      <td>1280.0</td>\n",
       "      <td>640.0</td>\n",
       "      <td>1.0</td>\n",
       "      <td>38.0</td>\n",
       "      <td>114.0</td>\n",
       "      <td>50.0</td>\n",
       "      <td>0.0</td>\n",
       "      <td>4.0</td>\n",
       "      <td>420.0</td>\n",
       "      <td>158.0</td>\n",
       "      <td>179.0</td>\n",
       "    </tr>\n",
       "    <tr>\n",
       "      <th>2</th>\n",
       "      <td>Agfa ePhoto CL18</td>\n",
       "      <td>2000</td>\n",
       "      <td>640.0</td>\n",
       "      <td>0.0</td>\n",
       "      <td>0.0</td>\n",
       "      <td>45.0</td>\n",
       "      <td>45.0</td>\n",
       "      <td>0.0</td>\n",
       "      <td>0.0</td>\n",
       "      <td>2.0</td>\n",
       "      <td>0.0</td>\n",
       "      <td>0.0</td>\n",
       "      <td>179.0</td>\n",
       "    </tr>\n",
       "    <tr>\n",
       "      <th>3</th>\n",
       "      <td>Agfa ePhoto CL30</td>\n",
       "      <td>1999</td>\n",
       "      <td>1152.0</td>\n",
       "      <td>640.0</td>\n",
       "      <td>0.0</td>\n",
       "      <td>35.0</td>\n",
       "      <td>35.0</td>\n",
       "      <td>0.0</td>\n",
       "      <td>0.0</td>\n",
       "      <td>4.0</td>\n",
       "      <td>0.0</td>\n",
       "      <td>0.0</td>\n",
       "      <td>269.0</td>\n",
       "    </tr>\n",
       "    <tr>\n",
       "      <th>4</th>\n",
       "      <td>Agfa ePhoto CL30 Clik!</td>\n",
       "      <td>1999</td>\n",
       "      <td>1152.0</td>\n",
       "      <td>640.0</td>\n",
       "      <td>0.0</td>\n",
       "      <td>43.0</td>\n",
       "      <td>43.0</td>\n",
       "      <td>50.0</td>\n",
       "      <td>0.0</td>\n",
       "      <td>40.0</td>\n",
       "      <td>300.0</td>\n",
       "      <td>128.0</td>\n",
       "      <td>1299.0</td>\n",
       "    </tr>\n",
       "  </tbody>\n",
       "</table>\n",
       "</div>"
      ],
      "text/plain": [
       "                    Model  Release date  Max resolution  Low resolution  \\\n",
       "0        Agfa ePhoto 1280          1997          1024.0           640.0   \n",
       "1        Agfa ePhoto 1680          1998          1280.0           640.0   \n",
       "2        Agfa ePhoto CL18          2000           640.0             0.0   \n",
       "3        Agfa ePhoto CL30          1999          1152.0           640.0   \n",
       "4  Agfa ePhoto CL30 Clik!          1999          1152.0           640.0   \n",
       "\n",
       "   Effective pixels  Zoom wide (W)  Zoom tele (T)  Normal focus range  \\\n",
       "0               0.0           38.0          114.0                70.0   \n",
       "1               1.0           38.0          114.0                50.0   \n",
       "2               0.0           45.0           45.0                 0.0   \n",
       "3               0.0           35.0           35.0                 0.0   \n",
       "4               0.0           43.0           43.0                50.0   \n",
       "\n",
       "   Macro focus range  Storage included  Weight (inc. batteries)  Dimensions  \\\n",
       "0               40.0               4.0                    420.0        95.0   \n",
       "1                0.0               4.0                    420.0       158.0   \n",
       "2                0.0               2.0                      0.0         0.0   \n",
       "3                0.0               4.0                      0.0         0.0   \n",
       "4                0.0              40.0                    300.0       128.0   \n",
       "\n",
       "    Price  \n",
       "0   179.0  \n",
       "1   179.0  \n",
       "2   179.0  \n",
       "3   269.0  \n",
       "4  1299.0  "
      ]
     },
     "execution_count": 3,
     "metadata": {},
     "output_type": "execute_result"
    }
   ],
   "source": [
    "df.head()"
   ]
  },
  {
   "cell_type": "code",
   "execution_count": 4,
   "metadata": {},
   "outputs": [
    {
     "name": "stdout",
     "output_type": "stream",
     "text": [
      "<class 'pandas.core.frame.DataFrame'>\n",
      "RangeIndex: 1038 entries, 0 to 1037\n",
      "Data columns (total 13 columns):\n",
      "Model                      1038 non-null object\n",
      "Release date               1038 non-null int64\n",
      "Max resolution             1038 non-null float64\n",
      "Low resolution             1038 non-null float64\n",
      "Effective pixels           1038 non-null float64\n",
      "Zoom wide (W)              1038 non-null float64\n",
      "Zoom tele (T)              1038 non-null float64\n",
      "Normal focus range         1038 non-null float64\n",
      "Macro focus range          1037 non-null float64\n",
      "Storage included           1036 non-null float64\n",
      "Weight (inc. batteries)    1036 non-null float64\n",
      "Dimensions                 1036 non-null float64\n",
      "Price                      1038 non-null float64\n",
      "dtypes: float64(11), int64(1), object(1)\n",
      "memory usage: 105.5+ KB\n"
     ]
    }
   ],
   "source": [
    "df.info()"
   ]
  },
  {
   "cell_type": "code",
   "execution_count": 5,
   "metadata": {},
   "outputs": [
    {
     "name": "stdout",
     "output_type": "stream",
     "text": [
      "<class 'pandas.core.frame.DataFrame'>\n",
      "RangeIndex: 1038 entries, 0 to 1037\n",
      "Data columns (total 13 columns):\n",
      "Model                      1038 non-null object\n",
      "Release date               1038 non-null int64\n",
      "Max resolution             1038 non-null float64\n",
      "Low resolution             1038 non-null float64\n",
      "Effective pixels           1038 non-null float64\n",
      "Zoom wide (W)              1038 non-null float64\n",
      "Zoom tele (T)              1038 non-null float64\n",
      "Normal focus range         1038 non-null float64\n",
      "Macro focus range          1037 non-null float64\n",
      "Storage included           1036 non-null float64\n",
      "Weight (inc. batteries)    1036 non-null float64\n",
      "Dimensions                 1036 non-null float64\n",
      "Price                      1038 non-null float64\n",
      "dtypes: float64(11), int64(1), object(1)\n",
      "memory usage: 105.5+ KB\n"
     ]
    }
   ],
   "source": [
    "df.info()"
   ]
  },
  {
   "cell_type": "code",
   "execution_count": 6,
   "metadata": {},
   "outputs": [
    {
     "data": {
      "text/html": [
       "<div>\n",
       "<style scoped>\n",
       "    .dataframe tbody tr th:only-of-type {\n",
       "        vertical-align: middle;\n",
       "    }\n",
       "\n",
       "    .dataframe tbody tr th {\n",
       "        vertical-align: top;\n",
       "    }\n",
       "\n",
       "    .dataframe thead th {\n",
       "        text-align: right;\n",
       "    }\n",
       "</style>\n",
       "<table border=\"1\" class=\"dataframe\">\n",
       "  <thead>\n",
       "    <tr style=\"text-align: right;\">\n",
       "      <th></th>\n",
       "      <th>Release date</th>\n",
       "      <th>Max resolution</th>\n",
       "      <th>Low resolution</th>\n",
       "      <th>Effective pixels</th>\n",
       "      <th>Zoom wide (W)</th>\n",
       "      <th>Zoom tele (T)</th>\n",
       "      <th>Normal focus range</th>\n",
       "      <th>Macro focus range</th>\n",
       "      <th>Storage included</th>\n",
       "      <th>Weight (inc. batteries)</th>\n",
       "      <th>Dimensions</th>\n",
       "      <th>Price</th>\n",
       "    </tr>\n",
       "  </thead>\n",
       "  <tbody>\n",
       "    <tr>\n",
       "      <th>count</th>\n",
       "      <td>1038.000000</td>\n",
       "      <td>1038.000000</td>\n",
       "      <td>1038.000000</td>\n",
       "      <td>1038.000000</td>\n",
       "      <td>1038.000000</td>\n",
       "      <td>1038.000000</td>\n",
       "      <td>1038.000000</td>\n",
       "      <td>1037.000000</td>\n",
       "      <td>1036.000000</td>\n",
       "      <td>1036.000000</td>\n",
       "      <td>1036.000000</td>\n",
       "      <td>1038.000000</td>\n",
       "    </tr>\n",
       "    <tr>\n",
       "      <th>mean</th>\n",
       "      <td>2003.590559</td>\n",
       "      <td>2474.672447</td>\n",
       "      <td>1773.936416</td>\n",
       "      <td>4.596339</td>\n",
       "      <td>32.963391</td>\n",
       "      <td>121.525048</td>\n",
       "      <td>44.145472</td>\n",
       "      <td>7.787850</td>\n",
       "      <td>17.447876</td>\n",
       "      <td>319.265444</td>\n",
       "      <td>105.363417</td>\n",
       "      <td>457.384393</td>\n",
       "    </tr>\n",
       "    <tr>\n",
       "      <th>std</th>\n",
       "      <td>2.724755</td>\n",
       "      <td>759.513608</td>\n",
       "      <td>830.897955</td>\n",
       "      <td>2.844044</td>\n",
       "      <td>10.333149</td>\n",
       "      <td>93.455422</td>\n",
       "      <td>24.141959</td>\n",
       "      <td>8.100081</td>\n",
       "      <td>27.440655</td>\n",
       "      <td>260.410137</td>\n",
       "      <td>24.262761</td>\n",
       "      <td>760.452918</td>\n",
       "    </tr>\n",
       "    <tr>\n",
       "      <th>min</th>\n",
       "      <td>1994.000000</td>\n",
       "      <td>0.000000</td>\n",
       "      <td>0.000000</td>\n",
       "      <td>0.000000</td>\n",
       "      <td>0.000000</td>\n",
       "      <td>0.000000</td>\n",
       "      <td>0.000000</td>\n",
       "      <td>0.000000</td>\n",
       "      <td>0.000000</td>\n",
       "      <td>0.000000</td>\n",
       "      <td>0.000000</td>\n",
       "      <td>14.000000</td>\n",
       "    </tr>\n",
       "    <tr>\n",
       "      <th>25%</th>\n",
       "      <td>2002.000000</td>\n",
       "      <td>2048.000000</td>\n",
       "      <td>1120.000000</td>\n",
       "      <td>3.000000</td>\n",
       "      <td>35.000000</td>\n",
       "      <td>96.000000</td>\n",
       "      <td>30.000000</td>\n",
       "      <td>3.000000</td>\n",
       "      <td>8.000000</td>\n",
       "      <td>180.000000</td>\n",
       "      <td>92.000000</td>\n",
       "      <td>149.000000</td>\n",
       "    </tr>\n",
       "    <tr>\n",
       "      <th>50%</th>\n",
       "      <td>2004.000000</td>\n",
       "      <td>2560.000000</td>\n",
       "      <td>2048.000000</td>\n",
       "      <td>4.000000</td>\n",
       "      <td>36.000000</td>\n",
       "      <td>108.000000</td>\n",
       "      <td>50.000000</td>\n",
       "      <td>6.000000</td>\n",
       "      <td>16.000000</td>\n",
       "      <td>226.000000</td>\n",
       "      <td>101.000000</td>\n",
       "      <td>199.000000</td>\n",
       "    </tr>\n",
       "    <tr>\n",
       "      <th>75%</th>\n",
       "      <td>2006.000000</td>\n",
       "      <td>3072.000000</td>\n",
       "      <td>2560.000000</td>\n",
       "      <td>7.000000</td>\n",
       "      <td>38.000000</td>\n",
       "      <td>117.000000</td>\n",
       "      <td>60.000000</td>\n",
       "      <td>10.000000</td>\n",
       "      <td>20.000000</td>\n",
       "      <td>350.000000</td>\n",
       "      <td>115.000000</td>\n",
       "      <td>399.000000</td>\n",
       "    </tr>\n",
       "    <tr>\n",
       "      <th>max</th>\n",
       "      <td>2007.000000</td>\n",
       "      <td>5616.000000</td>\n",
       "      <td>4992.000000</td>\n",
       "      <td>21.000000</td>\n",
       "      <td>52.000000</td>\n",
       "      <td>518.000000</td>\n",
       "      <td>120.000000</td>\n",
       "      <td>85.000000</td>\n",
       "      <td>450.000000</td>\n",
       "      <td>1860.000000</td>\n",
       "      <td>240.000000</td>\n",
       "      <td>7999.000000</td>\n",
       "    </tr>\n",
       "  </tbody>\n",
       "</table>\n",
       "</div>"
      ],
      "text/plain": [
       "       Release date  Max resolution  Low resolution  Effective pixels  \\\n",
       "count   1038.000000     1038.000000     1038.000000       1038.000000   \n",
       "mean    2003.590559     2474.672447     1773.936416          4.596339   \n",
       "std        2.724755      759.513608      830.897955          2.844044   \n",
       "min     1994.000000        0.000000        0.000000          0.000000   \n",
       "25%     2002.000000     2048.000000     1120.000000          3.000000   \n",
       "50%     2004.000000     2560.000000     2048.000000          4.000000   \n",
       "75%     2006.000000     3072.000000     2560.000000          7.000000   \n",
       "max     2007.000000     5616.000000     4992.000000         21.000000   \n",
       "\n",
       "       Zoom wide (W)  Zoom tele (T)  Normal focus range  Macro focus range  \\\n",
       "count    1038.000000    1038.000000         1038.000000        1037.000000   \n",
       "mean       32.963391     121.525048           44.145472           7.787850   \n",
       "std        10.333149      93.455422           24.141959           8.100081   \n",
       "min         0.000000       0.000000            0.000000           0.000000   \n",
       "25%        35.000000      96.000000           30.000000           3.000000   \n",
       "50%        36.000000     108.000000           50.000000           6.000000   \n",
       "75%        38.000000     117.000000           60.000000          10.000000   \n",
       "max        52.000000     518.000000          120.000000          85.000000   \n",
       "\n",
       "       Storage included  Weight (inc. batteries)   Dimensions        Price  \n",
       "count       1036.000000              1036.000000  1036.000000  1038.000000  \n",
       "mean          17.447876               319.265444   105.363417   457.384393  \n",
       "std           27.440655               260.410137    24.262761   760.452918  \n",
       "min            0.000000                 0.000000     0.000000    14.000000  \n",
       "25%            8.000000               180.000000    92.000000   149.000000  \n",
       "50%           16.000000               226.000000   101.000000   199.000000  \n",
       "75%           20.000000               350.000000   115.000000   399.000000  \n",
       "max          450.000000              1860.000000   240.000000  7999.000000  "
      ]
     },
     "execution_count": 6,
     "metadata": {},
     "output_type": "execute_result"
    }
   ],
   "source": [
    "df.describe()"
   ]
  },
  {
   "cell_type": "markdown",
   "metadata": {},
   "source": [
    "# statistics -- > \n",
    "1) Descriptive \n",
    "2) Inferential "
   ]
  },
  {
   "cell_type": "code",
   "execution_count": 7,
   "metadata": {},
   "outputs": [
    {
     "data": {
      "text/plain": [
       "array([[<matplotlib.axes._subplots.AxesSubplot object at 0x7f80716bb208>,\n",
       "        <matplotlib.axes._subplots.AxesSubplot object at 0x7f806f608a90>,\n",
       "        <matplotlib.axes._subplots.AxesSubplot object at 0x7f806f63a048>],\n",
       "       [<matplotlib.axes._subplots.AxesSubplot object at 0x7f806f5de5c0>,\n",
       "        <matplotlib.axes._subplots.AxesSubplot object at 0x7f806f585b38>,\n",
       "        <matplotlib.axes._subplots.AxesSubplot object at 0x7f806f5acf28>],\n",
       "       [<matplotlib.axes._subplots.AxesSubplot object at 0x7f806f55d4a8>,\n",
       "        <matplotlib.axes._subplots.AxesSubplot object at 0x7f806f504a58>,\n",
       "        <matplotlib.axes._subplots.AxesSubplot object at 0x7f806f504a90>],\n",
       "       [<matplotlib.axes._subplots.AxesSubplot object at 0x7f806f4dc550>,\n",
       "        <matplotlib.axes._subplots.AxesSubplot object at 0x7f806f484ac8>,\n",
       "        <matplotlib.axes._subplots.AxesSubplot object at 0x7f806f4b7080>]],\n",
       "      dtype=object)"
      ]
     },
     "execution_count": 7,
     "metadata": {},
     "output_type": "execute_result"
    },
    {
     "data": {
      "image/png": "[encoded data removed]",
      "text/plain": [
       "<Figure size 720x720 with 12 Axes>"
      ]
     },
     "metadata": {
      "needs_background": "light"
     },
     "output_type": "display_data"
    }
   ],
   "source": [
    "df.hist(figsize=(10, 10))"
   ]
  },
  {
   "cell_type": "code",
   "execution_count": 8,
   "metadata": {},
   "outputs": [
    {
     "data": {
      "text/plain": [
       "Release date               -0.611484\n",
       "Max resolution              0.015023\n",
       "Low resolution             -0.297409\n",
       "Effective pixels            0.632892\n",
       "Zoom wide (W)              -2.580604\n",
       "Zoom tele (T)               1.877687\n",
       "Normal focus range         -0.414433\n",
       "Macro focus range           3.647951\n",
       "Storage included           10.719963\n",
       "Weight (inc. batteries)     2.826781\n",
       "Dimensions                 -0.306744\n",
       "Price                       5.186957\n",
       "dtype: float64"
      ]
     },
     "execution_count": 8,
     "metadata": {},
     "output_type": "execute_result"
    }
   ],
   "source": [
    "df.skew()"
   ]
  },
  {
   "cell_type": "code",
   "execution_count": 9,
   "metadata": {},
   "outputs": [
    {
     "data": {
      "text/plain": [
       "Release date                -0.456661\n",
       "Max resolution               0.072743\n",
       "Low resolution              -0.388986\n",
       "Effective pixels             0.786564\n",
       "Zoom wide (W)                5.626021\n",
       "Zoom tele (T)                3.967294\n",
       "Normal focus range          -0.419713\n",
       "Macro focus range           25.692419\n",
       "Storage included           148.060614\n",
       "Weight (inc. batteries)      9.823194\n",
       "Dimensions                   5.377189\n",
       "Price                       37.084446\n",
       "dtype: float64"
      ]
     },
     "execution_count": 9,
     "metadata": {},
     "output_type": "execute_result"
    }
   ],
   "source": [
    "df.kurtosis()"
   ]
  },
  {
   "cell_type": "code",
   "execution_count": 10,
   "metadata": {},
   "outputs": [
    {
     "data": {
      "text/plain": [
       "<matplotlib.axes._subplots.AxesSubplot at 0x7f806f45bf60>"
      ]
     },
     "execution_count": 10,
     "metadata": {},
     "output_type": "execute_result"
    },
    {
     "data": {
      "image/png": "[encoded data removed]",
      "text/plain": [
       "<Figure size 432x288 with 1 Axes>"
      ]
     },
     "metadata": {
      "needs_background": "light"
     },
     "output_type": "display_data"
    }
   ],
   "source": [
    "df.plot('Storage included', 'Price', kind='scatter')"
   ]
  },
  {
   "cell_type": "code",
   "execution_count": 14,
   "metadata": {},
   "outputs": [
    {
     "data": {
      "text/plain": [
       "Zoom wide (W)             -0.459236\n",
       "Normal focus range        -0.273974\n",
       "Zoom tele (T)             -0.189377\n",
       "Macro focus range         -0.127660\n",
       "Storage included          -0.103046\n",
       "Release date              -0.023249\n",
       "Low resolution             0.154179\n",
       "Max resolution             0.183202\n",
       "Effective pixels           0.189149\n",
       "Dimensions                 0.264256\n",
       "Weight (inc. batteries)    0.464760\n",
       "Price                      1.000000\n",
       "Name: Price, dtype: float64"
      ]
     },
     "execution_count": 14,
     "metadata": {},
     "output_type": "execute_result"
    }
   ],
   "source": [
    "df.corr()['Price'].sort_values()"
   ]
  },
  {
   "cell_type": "code",
   "execution_count": 17,
   "metadata": {},
   "outputs": [
    {
     "data": {
      "text/plain": [
       "<matplotlib.axes._subplots.AxesSubplot at 0x7f806f1eceb8>"
      ]
     },
     "execution_count": 17,
     "metadata": {},
     "output_type": "execute_result"
    },
    {
     "data": {
      "image/png": "[encoded data removed]",
      "text/plain": [
       "<Figure size 432x288 with 1 Axes>"
      ]
     },
     "metadata": {
      "needs_background": "light"
     },
     "output_type": "display_data"
    }
   ],
   "source": [
    "df.plot('Zoom wide (W)', 'Price', kind='scatter')"
   ]
  },
  {
   "cell_type": "code",
   "execution_count": null,
   "metadata": {},
   "outputs": [],
   "source": []
  }
 ],
 "metadata": {
  "kernelspec": {
   "display_name": "Python 3",
   "language": "python",
   "name": "python3"
  },
  "language_info": {
   "codemirror_mode": {
    "name": "ipython",
    "version": 3
   },
   "file_extension": ".py",
   "mimetype": "text/x-python",
   "name": "python",
   "nbconvert_exporter": "python",
   "pygments_lexer": "ipython3",
   "version": "3.6.8"
  }
 },
 "nbformat": 4,
 "nbformat_minor": 2
}
